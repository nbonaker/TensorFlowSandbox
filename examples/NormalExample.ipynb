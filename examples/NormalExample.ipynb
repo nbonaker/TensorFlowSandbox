{
 "cells": [
  {
   "cell_type": "code",
   "execution_count": 2,
   "metadata": {},
   "outputs": [],
   "source": [
    "import numpy as np\n",
    "import tensorflow as tf\n",
    "import autograd\n",
    "from autograd import numpy as anp"
   ]
  },
  {
   "cell_type": "code",
   "execution_count": 3,
   "metadata": {},
   "outputs": [],
   "source": [
    "from matplotlib import pyplot as plt\n",
    "%matplotlib inline"
   ]
  },
  {
   "cell_type": "code",
   "execution_count": 10,
   "metadata": {},
   "outputs": [
    {
     "data": {
      "text/plain": [
       "<tf.Tensor: shape=(), dtype=float64, numpy=3.7743662423905597>"
      ]
     },
     "execution_count": 10,
     "metadata": {},
     "output_type": "execute_result"
    }
   ],
   "source": [
    "dim = 3\n",
    "foo = tf.constant(np.random.random((dim, dim)))\n",
    "tf.reduce_sum(foo)"
   ]
  },
  {
   "cell_type": "code",
   "execution_count": 70,
   "metadata": {},
   "outputs": [],
   "source": [
    "def normal_lp_suff(mu, mu2, tau, log_tau, xsum, x2sum, num_obs):\n",
    "    lp = \\\n",
    "        -0.5 * tau * ( \\\n",
    "            tf.reduce_sum(x2sum) - \\\n",
    "            2.0 * tf.tensordot(xsum, mu_true, 1) + \\\n",
    "            tf.reduce_sum(mu2)) + \\\n",
    "        0.5 * num_obs * log_tau\n",
    "    return lp"
   ]
  },
  {
   "cell_type": "code",
   "execution_count": 79,
   "metadata": {},
   "outputs": [
    {
     "name": "stdout",
     "output_type": "stream",
     "text": [
      "4.0\n",
      "3.9954520978456123\n"
     ]
    }
   ],
   "source": [
    "dim = 3\n",
    "num_obs = 10000\n",
    "\n",
    "mu_true = np.arange(dim, dtype=np.float64)\n",
    "sd_true = 0.5\n",
    "tau_true = 1 / sd_true ** 2\n",
    "print(tau_true)\n",
    "\n",
    "x = np.random.normal(loc=mu_true, scale=sd_true, size=(num_obs, dim))\n",
    "xsum = np.sum(x, axis=0)\n",
    "x2sum = x.T @ x\n",
    "\n",
    "muhat = xsum / num_obs\n",
    "covhat = x2sum / num_obs - np.outer(muhat, muhat) \n",
    "tauhat = 1 / np.mean(np.diag(covhat))\n",
    "print(tauhat)"
   ]
  },
  {
   "cell_type": "code",
   "execution_count": 89,
   "metadata": {},
   "outputs": [
    {
     "data": {
      "text/plain": [
       "<tf.Tensor: shape=(), dtype=float64, numpy=11152.047848957089>"
      ]
     },
     "execution_count": 89,
     "metadata": {},
     "output_type": "execute_result"
    }
   ],
   "source": [
    "normal_lp_suff(\n",
    "    mu=mu_true,\n",
    "    mu2=np.outer(mu_true, mu_true),\n",
    "    tau=tau_true,\n",
    "    log_tau=np.log(tau_true),\n",
    "    xsum=xsum,\n",
    "    x2sum=x2sum,\n",
    "    num_obs=num_obs)"
   ]
  },
  {
   "cell_type": "code",
   "execution_count": 94,
   "metadata": {},
   "outputs": [
    {
     "data": {
      "text/plain": [
       "<tf.Tensor: shape=(), dtype=float64, numpy=11152.047848957089>"
      ]
     },
     "execution_count": 94,
     "metadata": {},
     "output_type": "execute_result"
    }
   ],
   "source": [
    "def normal_lp(par, data):\n",
    "    mu = tf.convert_to_tensor(par['mu'], dtype=tf.float64)\n",
    "    tau = tf.convert_to_tensor(par['tau'], dtype=tf.float64)\n",
    "    return normal_lp_suff(\n",
    "        mu=mu,\n",
    "        mu2=tf.tensordot(mu, mu, 0),\n",
    "        tau=tau,\n",
    "        log_tau=tf.math.log(tau),\n",
    "        **data)\n",
    "\n",
    "data = { 'xsum': xsum, 'x2sum': x2sum, 'num_obs': num_obs}\n",
    "par = { 'mu': mu_true, 'tau': tau_true }\n",
    "normal_lp(par, data)"
   ]
  },
  {
   "cell_type": "code",
   "execution_count": 121,
   "metadata": {},
   "outputs": [
    {
     "name": "stdout",
     "output_type": "stream",
     "text": [
      "4.0\n"
     ]
    },
    {
     "data": {
      "text/plain": [
       "<tf.Tensor: shape=(), dtype=float64, numpy=11152.047848957089>"
      ]
     },
     "execution_count": 121,
     "metadata": {},
     "output_type": "execute_result"
    }
   ],
   "source": [
    "def flatten_par(par):\n",
    "    tau = tf.convert_to_tensor(par['tau'], dtype=tf.float64)\n",
    "    tau = tf.reshape(tau, (1, ))\n",
    "    return tf.concat([par['mu'], tf.math.log(tau) ], axis=0)\n",
    "\n",
    "def fold_par(par):\n",
    "    mu_dim = len(par) - 1\n",
    "    return { 'mu': par[0:mu_dim], 'tau': tf.math.exp(par[mu_dim]) } \n",
    "\n",
    "print(par['tau'])\n",
    "par_flat = flatten_par(par)\n",
    "par_fold = fold_par(par_flat)\n",
    "normal_lp(par_fold, data)"
   ]
  }
 ],
 "metadata": {
  "kernelspec": {
   "display_name": "Python 3",
   "language": "python",
   "name": "python3"
  },
  "language_info": {
   "codemirror_mode": {
    "name": "ipython",
    "version": 3
   },
   "file_extension": ".py",
   "mimetype": "text/x-python",
   "name": "python",
   "nbconvert_exporter": "python",
   "pygments_lexer": "ipython3",
   "version": "3.6.9"
  }
 },
 "nbformat": 4,
 "nbformat_minor": 4
}
