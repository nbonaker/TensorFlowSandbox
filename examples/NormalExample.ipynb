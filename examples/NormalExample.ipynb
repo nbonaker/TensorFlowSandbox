{
 "cells": [
  {
   "cell_type": "code",
   "execution_count": 8,
   "metadata": {},
   "outputs": [],
   "source": [
    "import numpy as np\n",
    "import tensorflow as tf\n",
    "import autograd\n",
    "from autograd import numpy as anp\n",
    "\n",
    "import scipy as sp\n",
    "from scipy import optimize\n",
    "\n",
    "from normal_example_lib import \\\n",
    "    normal_lp_suff, normal_lp, flatten_par, fold_par, get_objectives"
   ]
  },
  {
   "cell_type": "code",
   "execution_count": 2,
   "metadata": {},
   "outputs": [],
   "source": [
    "from matplotlib import pyplot as plt\n",
    "%matplotlib inline"
   ]
  },
  {
   "cell_type": "code",
   "execution_count": 3,
   "metadata": {},
   "outputs": [
    {
     "name": "stdout",
     "output_type": "stream",
     "text": [
      "4.0\n",
      "3.9608268183883633\n"
     ]
    }
   ],
   "source": [
    "dim = 3\n",
    "num_obs = 10000\n",
    "\n",
    "mu_true = np.arange(dim, dtype=np.float64)\n",
    "sd_true = 0.5\n",
    "tau_true = 1 / sd_true ** 2\n",
    "print(tau_true)\n",
    "\n",
    "x = np.random.normal(loc=mu_true, scale=sd_true, size=(num_obs, dim))\n",
    "xsum = np.sum(x, axis=0)\n",
    "x2sum = x.T @ x\n",
    "\n",
    "muhat = xsum / num_obs\n",
    "covhat = x2sum / num_obs - np.outer(muhat, muhat) \n",
    "tauhat = 1 / np.mean(np.diag(covhat))\n",
    "print(tauhat)\n"
   ]
  },
  {
   "cell_type": "code",
   "execution_count": 4,
   "metadata": {},
   "outputs": [
    {
     "data": {
      "text/plain": [
       "<tf.Tensor: shape=(), dtype=float64, numpy=5644.917946321373>"
      ]
     },
     "execution_count": 4,
     "metadata": {},
     "output_type": "execute_result"
    }
   ],
   "source": [
    "normal_lp_suff(\n",
    "    mu=mu_true,\n",
    "    mu2=np.outer(mu_true, mu_true),\n",
    "    tau=tau_true,\n",
    "    log_tau=np.log(tau_true),\n",
    "    xsum=xsum,\n",
    "    x2sum=x2sum,\n",
    "    num_obs=num_obs)"
   ]
  },
  {
   "cell_type": "code",
   "execution_count": 5,
   "metadata": {},
   "outputs": [
    {
     "data": {
      "text/plain": [
       "<tf.Tensor: shape=(), dtype=float64, numpy=5644.917946321373>"
      ]
     },
     "execution_count": 5,
     "metadata": {},
     "output_type": "execute_result"
    }
   ],
   "source": [
    "\n",
    "data = { 'xsum': xsum, 'x2sum': x2sum, 'num_obs': num_obs}\n",
    "par = { 'mu': mu_true, 'tau': tau_true }\n",
    "normal_lp(par, data)"
   ]
  },
  {
   "cell_type": "code",
   "execution_count": 6,
   "metadata": {},
   "outputs": [
    {
     "name": "stdout",
     "output_type": "stream",
     "text": [
      "4.0 tf.Tensor(4.0, shape=(), dtype=float64)\n"
     ]
    },
    {
     "data": {
      "text/plain": [
       "<tf.Tensor: shape=(), dtype=float64, numpy=5644.917946321373>"
      ]
     },
     "execution_count": 6,
     "metadata": {},
     "output_type": "execute_result"
    }
   ],
   "source": [
    "par_flat = flatten_par(par)\n",
    "par_fold = fold_par(par_flat)\n",
    "print(par['tau'], par_fold['tau'])\n",
    "normal_lp(par_fold, data)"
   ]
  },
  {
   "cell_type": "code",
   "execution_count": 9,
   "metadata": {
    "scrolled": false
   },
   "outputs": [
    {
     "name": "stdout",
     "output_type": "stream",
     "text": [
      "-0.5644917946321373\n",
      "-0.5644917946321373\n",
      "-0.5644917946321373\n"
     ]
    },
    {
     "data": {
      "text/plain": [
       "(-0.5644917946321373,\n",
       " array([0.0041134 , 0.02635507, 0.01430508, 0.01494975]),\n",
       " array([[4.        , 0.        , 0.        , 0.0041134 ],\n",
       "        [0.        , 4.        , 0.        , 0.02635507],\n",
       "        [0.        , 0.        , 4.        , 0.01430508],\n",
       "        [0.0041134 , 0.02635507, 0.01430508, 1.51494975]]))"
      ]
     },
     "execution_count": 9,
     "metadata": {},
     "output_type": "execute_result"
    }
   ],
   "source": [
    "normal_objective, normal_objective_grad, normal_objective_hessian = get_objectives(data)\n",
    "\n",
    "lp = normal_objective(par_flat)\n",
    "grad = normal_objective_grad(par_flat)\n",
    "hess = normal_objective_hessian(par_flat)\n",
    "\n",
    "lp, grad, hess"
   ]
  },
  {
   "cell_type": "code",
   "execution_count": 10,
   "metadata": {},
   "outputs": [
    {
     "name": "stdout",
     "output_type": "stream",
     "text": [
      "1.4743809018098275\n",
      "1.4743809018098275\n",
      "1.4743809018098275\n"
     ]
    },
    {
     "data": {
      "text/plain": [
       "(1.4743809018098275,\n",
       " array([ 0.22503288, -1.63814283, -2.10765742,  1.03638866]),\n",
       " array([[ 2.02993784,  0.        ,  0.        ,  0.22503288],\n",
       "        [ 0.        ,  2.02993784,  0.        , -1.63814283],\n",
       "        [ 0.        ,  0.        ,  2.02993784, -2.10765742],\n",
       "        [ 0.22503288, -1.63814283, -2.10765742,  2.53638866]]))"
      ]
     },
     "execution_count": 10,
     "metadata": {},
     "output_type": "execute_result"
    }
   ],
   "source": [
    "par_flat = np.random.random(dim  + 1)\n",
    "lp = normal_objective(tf.convert_to_tensor(par_flat))\n",
    "grad = normal_objective_grad(tf.convert_to_tensor(par_flat))\n",
    "hess = normal_objective_hessian(par_flat)\n",
    "\n",
    "lp, grad, hess"
   ]
  },
  {
   "cell_type": "code",
   "execution_count": 11,
   "metadata": {
    "scrolled": false
   },
   "outputs": [
    {
     "name": "stdout",
     "output_type": "stream",
     "text": [
      "2.8649961274781663\n",
      "2.8649961274781663\n",
      "1.5671220266823649\n",
      "1.5671220266823649\n",
      "0.25571791977009994\n",
      "0.25571791977009994\n",
      "22.97887964309611\n",
      "22.97887964309611\n",
      "-0.07364546753740879\n",
      "-0.07364546753740879\n",
      "-0.30879477153213464\n",
      "-0.30879477153213464\n",
      "-0.5563902260978016\n",
      "-0.5563902260978016\n",
      "-0.5554561204210333\n",
      "-0.5554561204210333\n",
      "-0.5645117470138377\n",
      "-0.5645117470138377\n",
      "-0.5646160984482785\n",
      "-0.5646160984482785\n",
      "-0.564679189708661\n",
      "-0.564679189708661\n",
      "-0.564679193991477\n",
      "-0.564679193991477\n"
     ]
    },
    {
     "name": "stderr",
     "output_type": "stream",
     "text": [
      "/home/rgiordan/.local/lib/python3.6/site-packages/scipy/optimize/_minimize.py:511: RuntimeWarning: Method bfgs does not use Hessian information (hess).\n",
      "  RuntimeWarning)\n"
     ]
    }
   ],
   "source": [
    "opt_result = sp.optimize.minimize(\n",
    "    x0=np.zeros(dim + 1),\n",
    "    fun=normal_objective,\n",
    "    jac=normal_objective_grad,\n",
    "    hess=normal_objective_hessian,\n",
    "    method=\"bfgs\")"
   ]
  },
  {
   "cell_type": "code",
   "execution_count": 12,
   "metadata": {},
   "outputs": [
    {
     "name": "stdout",
     "output_type": "stream",
     "text": [
      "-0.564679193991477\n",
      "-0.564679193991477\n",
      "-0.564679193991477\n"
     ]
    },
    {
     "data": {
      "text/plain": [
       "(array([ 7.49257057e-10, -7.23800929e-07, -1.45459728e-06,  4.12283555e-07]),\n",
       " array([[ 3.96082791e+00,  0.00000000e+00,  0.00000000e+00,\n",
       "          7.49257056e-10],\n",
       "        [ 0.00000000e+00,  3.96082791e+00,  0.00000000e+00,\n",
       "         -7.23800929e-07],\n",
       "        [ 0.00000000e+00,  0.00000000e+00,  3.96082791e+00,\n",
       "         -1.45459728e-06],\n",
       "        [ 7.49257057e-10, -7.23800929e-07, -1.45459728e-06,\n",
       "          1.50000041e+00]]))"
      ]
     },
     "execution_count": 12,
     "metadata": {},
     "output_type": "execute_result"
    }
   ],
   "source": [
    "lp = normal_objective(opt_result.x)\n",
    "grad = normal_objective_grad(opt_result.x)\n",
    "hess = normal_objective_hessian(opt_result.x)\n",
    "grad, hess"
   ]
  },
  {
   "cell_type": "code",
   "execution_count": null,
   "metadata": {},
   "outputs": [],
   "source": [
    "par_opt = fold_par(opt_result.x)\n",
    "print(par_opt['mu'].numpy(), muhat)\n",
    "print(par_opt['tau'].numpy(), tauhat, tau_true)"
   ]
  }
 ],
 "metadata": {
  "kernelspec": {
   "display_name": "Python 3",
   "language": "python",
   "name": "python3"
  },
  "language_info": {
   "codemirror_mode": {
    "name": "ipython",
    "version": 3
   },
   "file_extension": ".py",
   "mimetype": "text/x-python",
   "name": "python",
   "nbconvert_exporter": "python",
   "pygments_lexer": "ipython3",
   "version": "3.6.9"
  }
 },
 "nbformat": 4,
 "nbformat_minor": 4
}
