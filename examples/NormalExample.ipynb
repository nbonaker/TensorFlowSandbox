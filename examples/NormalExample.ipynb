{
 "cells": [
  {
   "cell_type": "code",
   "execution_count": 1,
   "metadata": {},
   "outputs": [],
   "source": [
    "import numpy as np\n",
    "import tensorflow as tf\n",
    "import autograd\n",
    "from autograd import numpy as anp\n",
    "\n",
    "import scipy as sp\n",
    "from scipy import optimize"
   ]
  },
  {
   "cell_type": "code",
   "execution_count": 2,
   "metadata": {},
   "outputs": [],
   "source": [
    "from matplotlib import pyplot as plt\n",
    "%matplotlib inline"
   ]
  },
  {
   "cell_type": "code",
   "execution_count": 26,
   "metadata": {},
   "outputs": [],
   "source": [
    "def normal_lp_suff(mu, mu2, tau, log_tau, xsum, x2sum, num_obs):\n",
    "    mu_dim = len(xsum)\n",
    "    quad_term = \\\n",
    "        tf.linalg.trace(x2sum) - \\\n",
    "        2.0 * tf.tensordot(xsum, mu, 1) + \\\n",
    "        num_obs * tf.linalg.trace(mu2)\n",
    "    lp = \\\n",
    "        -0.5 * tau * quad_term + \\\n",
    "        0.5 * mu_dim * num_obs * log_tau\n",
    "    return lp"
   ]
  },
  {
   "cell_type": "code",
   "execution_count": 25,
   "metadata": {},
   "outputs": [
    {
     "name": "stdout",
     "output_type": "stream",
     "text": [
      "4.0\n",
      "3.9835313226529028\n",
      "tf.Tensor(1.3278437742176368, shape=(), dtype=float64)\n",
      "tf.Tensor(0.7531006428743457, shape=(), dtype=float64) [0.25234554 0.24833973 0.25241537]\n"
     ]
    }
   ],
   "source": [
    "dim = 3\n",
    "num_obs = 10000\n",
    "\n",
    "mu_true = np.arange(dim, dtype=np.float64)\n",
    "sd_true = 0.5\n",
    "tau_true = 1 / sd_true ** 2\n",
    "print(tau_true)\n",
    "\n",
    "x = np.random.normal(loc=mu_true, scale=sd_true, size=(num_obs, dim))\n",
    "xsum = np.sum(x, axis=0)\n",
    "x2sum = x.T @ x\n",
    "\n",
    "muhat = xsum / num_obs\n",
    "covhat = x2sum / num_obs - np.outer(muhat, muhat) \n",
    "tauhat = 1 / np.mean(np.diag(covhat))\n",
    "print(tauhat)\n",
    "\n",
    "quad_term = \\\n",
    "    (tf.linalg.trace(x2sum) - \\\n",
    "     2.0 * tf.tensordot(xsum, muhat, 1) + \\\n",
    "     num_obs * tf.linalg.trace(tf.tensordot(muhat, muhat, 0)))\n",
    "\n",
    "print(num_obs / quad_term)\n",
    "print(quad_term / num_obs , np.diag(covhat))"
   ]
  },
  {
   "cell_type": "code",
   "execution_count": 5,
   "metadata": {},
   "outputs": [
    {
     "data": {
      "text/plain": [
       "<tf.Tensor: shape=(), dtype=float64, numpy=-8004.203393872718>"
      ]
     },
     "execution_count": 5,
     "metadata": {},
     "output_type": "execute_result"
    }
   ],
   "source": [
    "normal_lp_suff(\n",
    "    mu=mu_true,\n",
    "    mu2=np.outer(mu_true, mu_true),\n",
    "    tau=tau_true,\n",
    "    log_tau=np.log(tau_true),\n",
    "    xsum=xsum,\n",
    "    x2sum=x2sum,\n",
    "    num_obs=num_obs)"
   ]
  },
  {
   "cell_type": "code",
   "execution_count": 6,
   "metadata": {},
   "outputs": [
    {
     "data": {
      "text/plain": [
       "<tf.Tensor: shape=(), dtype=float64, numpy=-8004.203393872718>"
      ]
     },
     "execution_count": 6,
     "metadata": {},
     "output_type": "execute_result"
    }
   ],
   "source": [
    "def normal_lp(par, data):\n",
    "    mu = tf.convert_to_tensor(par['mu'], dtype=tf.float64)\n",
    "    tau = tf.convert_to_tensor(par['tau'], dtype=tf.float64)\n",
    "    return normal_lp_suff(\n",
    "        mu=mu,\n",
    "        mu2=tf.tensordot(mu, mu, 0),\n",
    "        tau=tau,\n",
    "        log_tau=tf.math.log(tau),\n",
    "        **data)\n",
    "\n",
    "data = { 'xsum': xsum, 'x2sum': x2sum, 'num_obs': num_obs}\n",
    "par = { 'mu': mu_true, 'tau': tau_true }\n",
    "normal_lp(par, data)"
   ]
  },
  {
   "cell_type": "code",
   "execution_count": 19,
   "metadata": {},
   "outputs": [
    {
     "name": "stdout",
     "output_type": "stream",
     "text": [
      "4.0 tf.Tensor(4.0, shape=(), dtype=float64)\n"
     ]
    },
    {
     "data": {
      "text/plain": [
       "<tf.Tensor: shape=(), dtype=float64, numpy=-8004.203393872718>"
      ]
     },
     "execution_count": 19,
     "metadata": {},
     "output_type": "execute_result"
    }
   ],
   "source": [
    "def flatten_par(par):\n",
    "    tau = tf.convert_to_tensor(par['tau'], dtype=tf.float64)\n",
    "    tau = tf.reshape(tau, (1, ))\n",
    "    return tf.concat([ par['mu'], tf.math.log(tau) ], axis=0)\n",
    "\n",
    "def fold_par(par_flat):\n",
    "    par_flat = tf.convert_to_tensor(par_flat)\n",
    "    par_len = par_flat.get_shape()[0]\n",
    "    mu_dim = len(par_flat) - 1\n",
    "    return { 'mu': par_flat[0:mu_dim], 'tau': tf.math.exp(par_flat[mu_dim]) } \n",
    "\n",
    "par_flat = flatten_par(par)\n",
    "par_fold = fold_par(par_flat)\n",
    "print(par['tau'], par_fold['tau'])\n",
    "normal_lp(par_fold, data)"
   ]
  },
  {
   "cell_type": "code",
   "execution_count": 14,
   "metadata": {
    "scrolled": false
   },
   "outputs": [
    {
     "name": "stdout",
     "output_type": "stream",
     "text": [
      "2.461774584468713\n",
      "2.461774584468713\n",
      "2.461774584468713\n"
     ]
    },
    {
     "data": {
      "text/plain": [
       "(2.461774584468713,\n",
       " array([ 1.19318164, -0.7885926 , -2.39945047,  2.27735079]),\n",
       " array([[ 1.87977559,  0.        ,  0.        ,  1.19318164],\n",
       "        [ 0.        ,  1.87977559,  0.        , -0.7885926 ],\n",
       "        [ 0.        ,  0.        ,  1.87977559, -2.39945047],\n",
       "        [ 1.19318164, -0.7885926 , -2.39945047,  2.77735079]]))"
      ]
     },
     "execution_count": 14,
     "metadata": {},
     "output_type": "execute_result"
    }
   ],
   "source": [
    "def normal_objective(par_flat, to_numpy=True):\n",
    "    lp = -1 * normal_lp(fold_par(par_flat), data) / data['num_obs']\n",
    "    print(lp.numpy())\n",
    "    if to_numpy:\n",
    "        return lp.numpy()\n",
    "    else: return lp\n",
    "\n",
    "def normal_objective_grad(par_flat, to_numpy=True):\n",
    "    par_flat_tf = tf.Variable(par_flat)\n",
    "    with tf.GradientTape() as tape:\n",
    "        lp = normal_objective(par_flat_tf, to_numpy=False)\n",
    "    grad = tape.gradient(lp, par_flat_tf)\n",
    "    if to_numpy:\n",
    "        return grad.numpy()\n",
    "    else:\n",
    "        return grad\n",
    "\n",
    "def normal_objective_hessian(par_flat, to_numpy=True):\n",
    "    par_flat_tf = tf.Variable(par_flat)\n",
    "    with tf.GradientTape() as tape:\n",
    "        with tf.GradientTape() as gtape:\n",
    "            lp = normal_objective(par_flat_tf, to_numpy=False)\n",
    "        grad = gtape.gradient(lp, par_flat_tf)\n",
    "    hess = tape.jacobian(grad, par_flat_tf)\n",
    "    if to_numpy:\n",
    "        return hess.numpy()\n",
    "    else:\n",
    "        return hess\n",
    "\n",
    "lp = normal_objective(par_flat)\n",
    "grad = normal_objective_grad(par_flat)\n",
    "hess = normal_objective_hessian(par_flat)\n",
    "\n",
    "lp, grad, hess"
   ]
  },
  {
   "cell_type": "code",
   "execution_count": 15,
   "metadata": {},
   "outputs": [
    {
     "name": "stdout",
     "output_type": "stream",
     "text": [
      "2.948708499610251\n",
      "2.948708499610251\n",
      "2.948708499610251\n"
     ]
    },
    {
     "data": {
      "text/plain": [
       "(2.948708499610251,\n",
       " array([ 1.25433344, -1.31664649, -2.07587351,  2.64095621]),\n",
       " array([[ 1.46887297,  0.        ,  0.        ,  1.25433344],\n",
       "        [ 0.        ,  1.46887297,  0.        , -1.31664649],\n",
       "        [ 0.        ,  0.        ,  1.46887297, -2.07587351],\n",
       "        [ 1.25433344, -1.31664649, -2.07587351,  3.14095621]]))"
      ]
     },
     "execution_count": 15,
     "metadata": {},
     "output_type": "execute_result"
    }
   ],
   "source": [
    "par_flat = np.random.random(dim  + 1)\n",
    "lp = normal_objective(tf.convert_to_tensor(par_flat))\n",
    "grad = normal_objective_grad(tf.convert_to_tensor(par_flat))\n",
    "hess = normal_objective_hessian(par_flat)\n",
    "\n",
    "lp, grad, hess"
   ]
  },
  {
   "cell_type": "code",
   "execution_count": 16,
   "metadata": {
    "scrolled": false
   },
   "outputs": [
    {
     "name": "stdout",
     "output_type": "stream",
     "text": [
      "2.863398098918461\n",
      "2.863398098918461\n",
      "1.1139570525411449\n",
      "1.1139570525411449\n",
      "0.7653548074088837\n",
      "0.7653548074088837\n",
      "0.46728885841601203\n",
      "0.46728885841601203\n",
      "0.4333120935951877\n",
      "0.4333120935951877\n",
      "0.4110301139189698\n",
      "0.4110301139189698\n",
      "0.38071921101806194\n",
      "0.38071921101806194\n",
      "0.3597169314778389\n",
      "0.3597169314778389\n",
      "0.3544213306579572\n",
      "0.3544213306579572\n",
      "0.3539902919460659\n",
      "0.3539902919460659\n",
      "0.3539849428004315\n",
      "0.3539849428004315\n",
      "0.35398493835143024\n",
      "0.35398493835143024\n"
     ]
    }
   ],
   "source": [
    "opt_result = sp.optimize.minimize(\n",
    "    x0=np.zeros(dim + 1),\n",
    "    fun=normal_objective,\n",
    "    jac=normal_objective_grad,\n",
    "    hess=normal_objective_hessian,\n",
    "    method=\"bfgs\")"
   ]
  },
  {
   "cell_type": "code",
   "execution_count": 17,
   "metadata": {},
   "outputs": [
    {
     "name": "stdout",
     "output_type": "stream",
     "text": [
      "0.35398493835143024\n",
      "0.35398493835143024\n",
      "0.35398493835143024\n"
     ]
    },
    {
     "data": {
      "text/plain": [
       "(array([-2.12450497e-10, -1.26470173e-07, -2.54039874e-07,  1.38086059e-07]),\n",
       " array([[ 1.33914373e+00,  0.00000000e+00,  0.00000000e+00,\n",
       "         -2.12450497e-10],\n",
       "        [ 0.00000000e+00,  1.33914373e+00,  0.00000000e+00,\n",
       "         -1.26470173e-07],\n",
       "        [ 0.00000000e+00,  0.00000000e+00,  1.33914373e+00,\n",
       "         -2.54039874e-07],\n",
       "        [-2.12450497e-10, -1.26470173e-07, -2.54039874e-07,\n",
       "          5.00000138e-01]]))"
      ]
     },
     "execution_count": 17,
     "metadata": {},
     "output_type": "execute_result"
    }
   ],
   "source": [
    "lp = normal_objective(opt_result.x)\n",
    "grad = normal_objective_grad(opt_result.x)\n",
    "hess = normal_objective_hessian(opt_result.x)\n",
    "grad, hess"
   ]
  },
  {
   "cell_type": "code",
   "execution_count": 18,
   "metadata": {},
   "outputs": [
    {
     "name": "stdout",
     "output_type": "stream",
     "text": [
      "[1.67067895e-03 9.94542538e-01 1.99773160e+00] [1.67067911e-03 9.94542632e-01 1.99773179e+00]\n",
      "1.339143726279069 4.01743006933528 4.0\n"
     ]
    }
   ],
   "source": [
    "par_opt = fold_par(opt_result.x)\n",
    "print(par_opt['mu'].numpy(), muhat)\n",
    "print(par_opt['tau'].numpy(), tauhat, tau_true)"
   ]
  }
 ],
 "metadata": {
  "kernelspec": {
   "display_name": "Python 3",
   "language": "python",
   "name": "python3"
  },
  "language_info": {
   "codemirror_mode": {
    "name": "ipython",
    "version": 3
   },
   "file_extension": ".py",
   "mimetype": "text/x-python",
   "name": "python",
   "nbconvert_exporter": "python",
   "pygments_lexer": "ipython3",
   "version": "3.6.9"
  }
 },
 "nbformat": 4,
 "nbformat_minor": 4
}
