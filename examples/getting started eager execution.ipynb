{
 "cells": [
  {
   "cell_type": "code",
   "execution_count": 1,
   "metadata": {},
   "outputs": [],
   "source": [
    "import numpy as np\n",
    "import tensorflow as tf"
   ]
  },
  {
   "cell_type": "code",
   "execution_count": 2,
   "metadata": {},
   "outputs": [],
   "source": [
    "from matplotlib import pyplot as plt\n",
    "%matplotlib inline"
   ]
  },
  {
   "cell_type": "code",
   "execution_count": 3,
   "metadata": {},
   "outputs": [],
   "source": [
    "def comparison_plot(x, y):\n",
    "    plt.plot(x, x, 'r')\n",
    "    plt.plot(x, y, 'k.')\n",
    "    \n",
    "#comparison_plot(np.random.rand(10), np.random.rand(10))"
   ]
  },
  {
   "cell_type": "code",
   "execution_count": 4,
   "metadata": {},
   "outputs": [],
   "source": [
    "mnist = tf.keras.datasets.mnist\n",
    "\n",
    "(x_train, y_train), (x_test, y_test) = mnist.load_data()\n",
    "x_train, x_test = x_train / 255.0, x_test / 255.0"
   ]
  },
  {
   "cell_type": "markdown",
   "metadata": {},
   "source": [
    "https://www.tensorflow.org/guide/eager"
   ]
  },
  {
   "cell_type": "code",
   "execution_count": 5,
   "metadata": {},
   "outputs": [
    {
     "data": {
      "text/plain": [
       "True"
      ]
     },
     "execution_count": 5,
     "metadata": {},
     "output_type": "execute_result"
    }
   ],
   "source": [
    "tf.executing_eagerly()"
   ]
  },
  {
   "cell_type": "code",
   "execution_count": 6,
   "metadata": {},
   "outputs": [
    {
     "name": "stdout",
     "output_type": "stream",
     "text": [
      "hello, [[4.]]\n"
     ]
    }
   ],
   "source": [
    "x = [[2.]]\n",
    "m = tf.matmul(x, x)\n",
    "print(\"hello, {}\".format(m))"
   ]
  },
  {
   "cell_type": "code",
   "execution_count": 7,
   "metadata": {},
   "outputs": [
    {
     "name": "stdout",
     "output_type": "stream",
     "text": [
      "tf.Tensor(\n",
      "[[1 2]\n",
      " [3 4]], shape=(2, 2), dtype=int32)\n"
     ]
    }
   ],
   "source": [
    "a = tf.constant([[1, 2],\n",
    "                 [3, 4]])\n",
    "print(a)"
   ]
  },
  {
   "cell_type": "code",
   "execution_count": 8,
   "metadata": {},
   "outputs": [
    {
     "name": "stdout",
     "output_type": "stream",
     "text": [
      "tf.Tensor(\n",
      "[[2 3]\n",
      " [4 5]], shape=(2, 2), dtype=int32)\n",
      "<class 'tensorflow.python.framework.ops.EagerTensor'>\n",
      "<class 'tensorflow.python.framework.ops.EagerTensor'>\n",
      "<class 'tensorflow.python.framework.ops.EagerTensor'>\n"
     ]
    }
   ],
   "source": [
    "b = tf.add(a, 1)\n",
    "print(b)\n",
    "print(type(a))\n",
    "print(type(b))\n",
    "print(type(m))"
   ]
  },
  {
   "cell_type": "code",
   "execution_count": 9,
   "metadata": {},
   "outputs": [
    {
     "name": "stdout",
     "output_type": "stream",
     "text": [
      "[[ 1  4]\n",
      " [ 9 16]]\n",
      "<class 'numpy.ndarray'>\n",
      "[[ 7 10]\n",
      " [15 22]]\n",
      "<class 'numpy.ndarray'>\n",
      "tf.Tensor(\n",
      "[[ 1  4]\n",
      " [ 9 16]], shape=(2, 2), dtype=int32)\n",
      "<class 'tensorflow.python.framework.ops.EagerTensor'>\n",
      "tf.Tensor(\n",
      "[[ 7 10]\n",
      " [15 22]], shape=(2, 2), dtype=int32)\n",
      "<class 'tensorflow.python.framework.ops.EagerTensor'>\n",
      "[[ 7 10]\n",
      " [15 22]]\n",
      "<class 'numpy.ndarray'>\n"
     ]
    }
   ],
   "source": [
    "c = np.multiply(a, a)\n",
    "print(c)\n",
    "print(type(c))\n",
    "\n",
    "c = np.matmul(a, a)\n",
    "print(c)\n",
    "print(type(c))\n",
    "\n",
    "c = a * a\n",
    "print(c)\n",
    "print(type(c))\n",
    "\n",
    "c = a @ a\n",
    "print(c)\n",
    "print(type(c))\n",
    "\n",
    "c = (a @ a).numpy()\n",
    "print(c)\n",
    "print(type(c))"
   ]
  },
  {
   "cell_type": "code",
   "execution_count": 10,
   "metadata": {},
   "outputs": [
    {
     "name": "stdout",
     "output_type": "stream",
     "text": [
      "tf.Tensor(\n",
      "[[2. 4.]\n",
      " [2. 4.]], shape=(2, 2), dtype=float32)\n"
     ]
    }
   ],
   "source": [
    "def get_loss(w):\n",
    "    return w * w\n",
    "\n",
    "w = tf.Variable([[1.0, 2.0], [1.0, 2.0]])\n",
    "with tf.GradientTape() as tape:\n",
    "    loss = get_loss(w)\n",
    "    loss_double = 2 * loss\n",
    "\n",
    "grad = tape.gradient(loss, w)\n",
    "print(grad)\n",
    "\n",
    "# Error, since you can only call gradient once on non-persistent tapes\n",
    "if False:\n",
    "    grad_double = tape.gradient(loss_double, w)\n",
    "    print(grad_double)"
   ]
  },
  {
   "cell_type": "code",
   "execution_count": 11,
   "metadata": {},
   "outputs": [
    {
     "name": "stdout",
     "output_type": "stream",
     "text": [
      "\n",
      "Without watching constant x:\n",
      "None\n",
      "\n",
      "Watching constant x:\n",
      "tf.Tensor(4.0, shape=(), dtype=float32)\n",
      "\n",
      "x is a variable:\n",
      "tf.Tensor(4.0, shape=(), dtype=float32)\n"
     ]
    }
   ],
   "source": [
    "print('\\nWithout watching constant x:')\n",
    "x = tf.constant(2.0)\n",
    "with tf.GradientTape() as tape:\n",
    "    z = x**2\n",
    "print(tape.gradient(z, x))\n",
    "\n",
    "print('\\nWatching constant x:')\n",
    "x = tf.constant(2.0)\n",
    "with tf.GradientTape() as tape:\n",
    "    tape.watch(x)\n",
    "    z = x**2\n",
    "print(tape.gradient(z, x))\n",
    "\n",
    "\n",
    "print('\\nx is a variable:')\n",
    "x = tf.Variable(2.0)\n",
    "with tf.GradientTape() as tape:\n",
    "    z = x**2\n",
    "print(tape.gradient(z, x))"
   ]
  },
  {
   "cell_type": "code",
   "execution_count": 12,
   "metadata": {},
   "outputs": [
    {
     "name": "stdout",
     "output_type": "stream",
     "text": [
      "<tf.Variable 'Broom:0' shape=() dtype=float32, numpy=3.0>\n",
      "tf.Tensor(3.0, shape=(), dtype=float32)\n"
     ]
    }
   ],
   "source": [
    "# Names of constants seem to be discarded in eager execution\n",
    "print(tf.Variable(3.0, name='Broom'))\n",
    "print(tf.constant(3.0, name='Broom'))"
   ]
  },
  {
   "cell_type": "code",
   "execution_count": 13,
   "metadata": {},
   "outputs": [
    {
     "name": "stdout",
     "output_type": "stream",
     "text": [
      "tf.Tensor(18.0, shape=(), dtype=float32)\n",
      "tf.Tensor(109.0, shape=(), dtype=float32)\n",
      "109\n"
     ]
    }
   ],
   "source": [
    "x = tf.constant(3.0)\n",
    "\n",
    "with tf.GradientTape() as tape:\n",
    "    tape.watch(x)\n",
    "    y = x**2\n",
    "    z = y**2 + x\n",
    "\n",
    "# With directed graphs you can compute partial derivatives with respect\n",
    "# to internal variables.\n",
    "# y = 3 * 3, and dz / dy = 2 * y\n",
    "print(tape.gradient(z, y))\n",
    "\n",
    "with tf.GradientTape() as tape:\n",
    "    tape.watch(x)\n",
    "    y = x**2\n",
    "    z = y**2 + x\n",
    "\n",
    "# 4 * x^3 + 1 = 4 * 27 + 1 \n",
    "print(tape.gradient(z, x))\n",
    "print(4 * 27 + 1 )"
   ]
  },
  {
   "cell_type": "code",
   "execution_count": 14,
   "metadata": {},
   "outputs": [
    {
     "name": "stdout",
     "output_type": "stream",
     "text": [
      "<tf.Variable 'groundhog:0' shape=(2,) dtype=float32, numpy=array([2., 3.], dtype=float32)>\n",
      "<tf.Variable 'groundhog:0' shape=(2,) dtype=float32, numpy=array([3., 4.], dtype=float32)>\n",
      "'tensorflow.python.framework.ops.EagerTensor' object has no attribute 'assign'\n"
     ]
    }
   ],
   "source": [
    "# You can assign variables but not constants\n",
    "x = tf.Variable([2.0, 3.0], name='groundhog')\n",
    "print(x)\n",
    "x.assign([3.0, 4.0])\n",
    "print(x)\n",
    "\n",
    "# Doesn't work\n",
    "x = tf.constant([2.0, 3.0])\n",
    "try:\n",
    "    x.assign([3.0, 4.0])\n",
    "except Exception as inst:\n",
    "    print(inst)"
   ]
  },
  {
   "cell_type": "code",
   "execution_count": 15,
   "metadata": {},
   "outputs": [
    {
     "name": "stdout",
     "output_type": "stream",
     "text": [
      "inside 1: tf.Tensor(3.0, shape=(), dtype=float32)\n",
      "inside 2: tf.Tensor(9.0, shape=(), dtype=float32)\n",
      "tf.Tensor(18.0, shape=(), dtype=float32)\n"
     ]
    }
   ],
   "source": [
    "# Be careful with assignment and constants!\n",
    "x = tf.constant(3.0)\n",
    "with tf.GradientTape() as tape:\n",
    "    tape.watch(x)\n",
    "    y = x**2\n",
    "    print('inside 1:', x)\n",
    "    \n",
    "    # This appears to silently create a new variable, and it is with respect\n",
    "    # to this variable that you get a derivative.\n",
    "    x = y\n",
    "    print('inside 2:', x)\n",
    "    z = x**2\n",
    "\n",
    "# You might expect 4 * 3^3 = 4 * 27, but you get 2 * 9 = 18.\n",
    "print(tape.gradient(z, x))"
   ]
  },
  {
   "cell_type": "code",
   "execution_count": 16,
   "metadata": {},
   "outputs": [
    {
     "name": "stdout",
     "output_type": "stream",
     "text": [
      "inside 1, x: <tf.Variable 'woodchuck:0' shape=() dtype=float32, numpy=3.0>\n",
      "inside 1, y: tf.Tensor(9.0, shape=(), dtype=float32)\n",
      "inside 2, x: tf.Tensor(9.0, shape=(), dtype=float32)\n",
      "tf.Tensor(18.0, shape=(), dtype=float32)\n"
     ]
    }
   ],
   "source": [
    "# Be careful with assignment and variables!\n",
    "x = tf.Variable(3.0, name='woodchuck')\n",
    "with tf.GradientTape() as tape:\n",
    "    y = x**2\n",
    "    print('inside 1, x:', x)\n",
    "    print('inside 1, y:', y)\n",
    "    \n",
    "    # This appears to silently create a new variable, and it is with respect\n",
    "    # to this variable that you get a derivative.\n",
    "    x = y\n",
    "    print('inside 2, x:', x)\n",
    "    z = x**2\n",
    "\n",
    "# You might expect 4 * 3^3 = 4 * 27, but you get 2 * 9 = 18.\n",
    "print(tape.gradient(z, x))"
   ]
  },
  {
   "cell_type": "code",
   "execution_count": 17,
   "metadata": {},
   "outputs": [
    {
     "name": "stdout",
     "output_type": "stream",
     "text": [
      "tf.Tensor(18.0, shape=(), dtype=float32)\n"
     ]
    }
   ],
   "source": [
    "# Be careful with assignment and variables!\n",
    "x = tf.Variable(3.0, name='woodchuck')\n",
    "with tf.GradientTape() as tape:\n",
    "    y = x**2\n",
    "    x.assign(y)\n",
    "    z = x**2\n",
    "\n",
    "# You might expect 4 * 3^3 = 4 * 27 = 108, but you get 2 * 9 = 18.\n",
    "print(tape.gradient(z, x))\n",
    "# 18"
   ]
  },
  {
   "cell_type": "code",
   "execution_count": 18,
   "metadata": {},
   "outputs": [
    {
     "name": "stdout",
     "output_type": "stream",
     "text": [
      "108.0\n"
     ]
    }
   ],
   "source": [
    "# Contrast with autograd.\n",
    "\n",
    "import autograd\n",
    "from autograd import numpy as anp\n",
    "\n",
    "def loopy_fun(x):\n",
    "    y = anp.power(x, 2)\n",
    "    x = y\n",
    "    z = anp.power(x, 2)\n",
    "    return z\n",
    "\n",
    "print(autograd.grad(loopy_fun)(3.0))\n",
    "# 108"
   ]
  },
  {
   "cell_type": "code",
   "execution_count": 19,
   "metadata": {},
   "outputs": [
    {
     "name": "stdout",
     "output_type": "stream",
     "text": [
      "3\n",
      "9\n",
      "18.0\n"
     ]
    }
   ],
   "source": [
    "# Be careful with assignment and variables!\n",
    "@tf.function\n",
    "def tf_loopy_fun(x):\n",
    "    y = x**2\n",
    "    tf.print(x)\n",
    "    x.assign(y)\n",
    "    tf.print(x)\n",
    "    z = x**2\n",
    "    return z\n",
    "\n",
    "x = tf.Variable(3.0, name='woodchuck')\n",
    "with tf.GradientTape() as tape:\n",
    "    z = tf_loopy_fun(x)\n",
    "print(tape.gradient(z, x).numpy())\n",
    "# 18 again"
   ]
  },
  {
   "cell_type": "code",
   "execution_count": 20,
   "metadata": {},
   "outputs": [
    {
     "name": "stdout",
     "output_type": "stream",
     "text": [
      "tf_fun1 6.0\n",
      "'NoneType' object has no attribute 'numpy'\n",
      "tf_fun2 None\n",
      "'NoneType' object has no attribute 'numpy'\n",
      "tf_fun3 None\n",
      "'NoneType' object has no attribute 'numpy'\n",
      "tf_fun4 None\n",
      "'NoneType' object has no attribute 'numpy'\n",
      "tf_fun5 None\n"
     ]
    }
   ],
   "source": [
    "# Here you get errors\n",
    "\n",
    "def get_tf_grad(fun, x):\n",
    "    x = tf.Variable(3.0, name='woodchuck')\n",
    "    with tf.GradientTape() as tape:\n",
    "        z = fun(x)\n",
    "    try:\n",
    "        grad = tape.gradient(z, x).numpy()\n",
    "    except Exception as err:\n",
    "        print(err)\n",
    "        grad = None\n",
    "    return grad\n",
    "\n",
    "def tf_fun1(x):\n",
    "    y = x\n",
    "    return y ** 2\n",
    "\n",
    "def tf_fun2(x):\n",
    "    y = tf.Variable(10.0)\n",
    "    y.assign(x)\n",
    "    return y ** 2\n",
    "\n",
    "def tf_fun3(x):\n",
    "    y_outer.assign(x)\n",
    "    return y ** 2\n",
    "\n",
    "def tf_fun4(x):\n",
    "    y = tf.Variable(10.0)\n",
    "    y.assign_add(x)\n",
    "    return y ** 2\n",
    "\n",
    "def tf_fun5(x):\n",
    "    y_outer.assign_add(x)\n",
    "    return y ** 2\n",
    "\n",
    "y_outer = tf.Variable(10.0)\n",
    "print(\"tf_fun1\", get_tf_grad(tf_fun1, x))  # Works\n",
    "print(\"tf_fun2\", get_tf_grad(tf_fun2, x))  # Error\n",
    "print(\"tf_fun3\", get_tf_grad(tf_fun3, x))  # Error\n",
    "print(\"tf_fun4\", get_tf_grad(tf_fun4, x))  # Error\n",
    "print(\"tf_fun5\", get_tf_grad(tf_fun5, x))  # Error"
   ]
  },
  {
   "cell_type": "code",
   "execution_count": 21,
   "metadata": {},
   "outputs": [
    {
     "name": "stdout",
     "output_type": "stream",
     "text": [
      "tf.Tensor(108.0, shape=(), dtype=float32)\n",
      "tf.Tensor(18.0, shape=(), dtype=float32)\n"
     ]
    }
   ],
   "source": [
    "# Declare persistent to get multiple derivatives\n",
    "x = tf.constant(3.0, name='intial')\n",
    "with tf.GradientTape(persistent = True) as tape:\n",
    "    tape.watch(x)\n",
    "    y = x**2\n",
    "    z = y**2\n",
    "\n",
    "print(tape.gradient(z, x))\n",
    "print(tape.gradient(z, y))\n",
    "\n",
    "del tape"
   ]
  },
  {
   "cell_type": "code",
   "execution_count": 22,
   "metadata": {
    "scrolled": false
   },
   "outputs": [
    {
     "name": "stdout",
     "output_type": "stream",
     "text": [
      "'ResourceVariable' object does not support item assignment\n"
     ]
    }
   ],
   "source": [
    "def get_mask(inds, x):\n",
    "    output = tf.Variable(np.zeros_like(x.numpy()))\n",
    "    for i in inds:\n",
    "        output[i] = x[i]\n",
    "    return output\n",
    "     \n",
    "x = tf.Variable(np.random.random((3, 4)))\n",
    "inds = [(0, 1), (2, 3), (1, 1)]\n",
    "try:\n",
    "    get_mask(inds, x)\n",
    "except Exception as err:\n",
    "    print(err)"
   ]
  },
  {
   "cell_type": "code",
   "execution_count": 23,
   "metadata": {
    "scrolled": false
   },
   "outputs": [
    {
     "name": "stdout",
     "output_type": "stream",
     "text": [
      "tf.Tensor(\n",
      "[[0. 1. 0. 0.]\n",
      " [0. 1. 0. 0.]\n",
      " [0. 0. 0. 1.]], shape=(3, 4), dtype=float32)\n"
     ]
    }
   ],
   "source": [
    "x = np.arange(12, dtype=np.float32).reshape((3, 4))\n",
    "inds = [(0, 1), (2, 3), (1, 1)]\n",
    "\n",
    "def get_mask(inds, x):\n",
    "    x_sp = tf.sparse.SparseTensor(inds, [ x[i] for i in inds ], x.shape)\n",
    "    x_sp = tf.sparse.reorder(x_sp)\n",
    "    return x_sp\n",
    "\n",
    "tf_x = tf.Variable(x)\n",
    "x_sp = get_mask(inds, tf_x)\n",
    "\n",
    "with tf.GradientTape() as tape:\n",
    "    x_sp = get_mask(inds, tf_x)\n",
    "    x_sp_sum = tf.sparse.reduce_sum(x_sp)\n",
    "print(tape.gradient(x_sp_sum, tf_x))"
   ]
  },
  {
   "cell_type": "code",
   "execution_count": 24,
   "metadata": {},
   "outputs": [
    {
     "name": "stdout",
     "output_type": "stream",
     "text": [
      "<tf.Variable 'Variable:0' shape=(3, 4) dtype=float16, numpy=\n",
      "array([[ 0.,  1.,  2.,  3.],\n",
      "       [ 4.,  5.,  6.,  7.],\n",
      "       [ 8.,  9., 10., 11.]], dtype=float16)>\n",
      "<tf.Variable 'UnreadVariable' shape=(3, 4) dtype=float16, numpy=\n",
      "array([[   0.,    1.,    2.,    3.],\n",
      "       [   4.,    5.,    6., 1000.],\n",
      "       [   8.,    9.,   10.,   11.]], dtype=float16)>\n",
      "<tf.Variable 'Variable:0' shape=(3, 4) dtype=float16, numpy=\n",
      "array([[   0.,    1.,    2.,    3.],\n",
      "       [   4.,    5.,    6., 1000.],\n",
      "       [   8.,    9.,   10.,   11.]], dtype=float16)>\n"
     ]
    }
   ],
   "source": [
    "foo = tf.Variable(np.arange(12, dtype=np.float16).reshape((3, 4)))\n",
    "# foo[1, 3] = 5 # Fails\n",
    "\n",
    "# but this works:\n",
    "print(foo)\n",
    "print(foo[1, 3].assign(1000))\n",
    "print(foo)"
   ]
  },
  {
   "cell_type": "code",
   "execution_count": 25,
   "metadata": {},
   "outputs": [
    {
     "name": "stdout",
     "output_type": "stream",
     "text": [
      "None\n"
     ]
    }
   ],
   "source": [
    "# Doesn't work.\n",
    "x = tf.Variable(np.arange(12, dtype=np.float32).reshape((3, 4)))\n",
    "inds = [(0, 1), (2, 3), (1, 1)]\n",
    "\n",
    "def get_mask2(inds, x):\n",
    "    x_masked = tf.Variable(np.zeros(x.shape, dtype=np.float32))\n",
    "    for i in inds:\n",
    "        x_masked[i].assign(x[i])\n",
    "    return x_masked\n",
    "\n",
    "with tf.GradientTape() as tape:\n",
    "    x_masked = get_mask2(inds, tf_x)\n",
    "    x_mask_sum = tf.math.reduce_sum(x_masked)\n",
    "print(tape.gradient(x_mask_sum, tf_x))"
   ]
  },
  {
   "cell_type": "code",
   "execution_count": 37,
   "metadata": {},
   "outputs": [
    {
     "name": "stdout",
     "output_type": "stream",
     "text": [
      "<class 'tensorflow.python.framework.func_graph.FuncGraph'>\n"
     ]
    },
    {
     "data": {
      "text/plain": [
       "[<tf.Operation 'x' type=Placeholder>,\n",
       " <tf.Operation 'ReadVariableOp' type=ReadVariableOp>,\n",
       " <tf.Operation 'pow/y' type=Const>,\n",
       " <tf.Operation 'pow' type=Pow>,\n",
       " <tf.Operation 'pow_1/y' type=Const>,\n",
       " <tf.Operation 'pow_1' type=Pow>,\n",
       " <tf.Operation 'mul/x' type=Const>,\n",
       " <tf.Operation 'mul' type=Mul>,\n",
       " <tf.Operation 'Identity' type=Identity>]"
      ]
     },
     "execution_count": 37,
     "metadata": {},
     "output_type": "execute_result"
    }
   ],
   "source": [
    "@tf.function\n",
    "def f(x):\n",
    "    y = x ** 2\n",
    "    z = y ** 2\n",
    "    return 0.5 * z\n",
    "\n",
    "x = tf.Variable([2.0, 1.5])\n",
    "g = f.get_concrete_function(x).graph\n",
    "print(type(g))\n",
    "g.get_operations()"
   ]
  }
 ],
 "metadata": {
  "kernelspec": {
   "display_name": "Python 3",
   "language": "python",
   "name": "python3"
  },
  "language_info": {
   "codemirror_mode": {
    "name": "ipython",
    "version": 3
   },
   "file_extension": ".py",
   "mimetype": "text/x-python",
   "name": "python",
   "nbconvert_exporter": "python",
   "pygments_lexer": "ipython3",
   "version": "3.6.9"
  }
 },
 "nbformat": 4,
 "nbformat_minor": 4
}
