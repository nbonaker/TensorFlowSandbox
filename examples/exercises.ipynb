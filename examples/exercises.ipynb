{
 "cells": [
  {
   "cell_type": "code",
   "execution_count": 14,
   "metadata": {},
   "outputs": [],
   "source": [
    "import numpy as np\n",
    "import tensorflow as tf\n",
    "import matplotlib.pyplot as plt \n",
    "%matplotlib inline"
   ]
  },
  {
   "cell_type": "code",
   "execution_count": 22,
   "metadata": {},
   "outputs": [],
   "source": [
    "def get_norm_ll_vec(x, mu, sigma):\n",
    "    mu = tf.reshape(mu, (1, ))\n",
    "    sigma = tf.reshape(sigma, (1, ))\n",
    "    return \\\n",
    "        -0.5 * (x - mu) ** 2 / (sigma ** 2) \\\n",
    "        - tf.math.log(sigma)\n",
    "\n",
    "\n",
    "def get_norm_ll(x, mu, sigma):\n",
    "    return tf.reduce_sum(get_norm_ll_vec(x, mu, sigma))\n",
    "\n",
    "\n",
    "def get_norm_ll_infl(x, mu, sigma, w):\n",
    "    return tf.reduce_sum(w * get_norm_ll_vec(x, mu, sigma))\n"
   ]
  },
  {
   "cell_type": "code",
   "execution_count": 27,
   "metadata": {},
   "outputs": [],
   "source": [
    "num_obs = 10\n",
    "mu = 2.0\n",
    "sigma = 1.5\n",
    "x = np.random.normal(loc=mu, scale=sigma, size=num_obs)\n",
    "w = np.ones(num_obs)"
   ]
  },
  {
   "cell_type": "code",
   "execution_count": 28,
   "metadata": {},
   "outputs": [
    {
     "data": {
      "text/plain": [
       "<tf.Tensor: shape=(), dtype=float32, numpy=-12.113289>"
      ]
     },
     "execution_count": 28,
     "metadata": {},
     "output_type": "execute_result"
    }
   ],
   "source": [
    "get_norm_ll_infl(x, mu, sigma, w)"
   ]
  },
  {
   "cell_type": "code",
   "execution_count": 50,
   "metadata": {},
   "outputs": [
    {
     "data": {
      "text/plain": [
       "<tf.Tensor: shape=(), dtype=float64, numpy=-2991.819729986609>"
      ]
     },
     "execution_count": 50,
     "metadata": {},
     "output_type": "execute_result"
    }
   ],
   "source": [
    "num_clusters = 3\n",
    "mu_vec = np.linspace(1, num_clusters, num=num_clusters)\n",
    "sigma_vec = np.linspace(0.1, 0.5, num=num_clusters)\n",
    "pi_vec = np.linspace(1, num_clusters, num=num_clusters)\n",
    "pi_vec = pi_vec / np.sum(pi_vec)\n",
    "\n",
    "def get_norm_clustering_mstep_mat(x, mu_vec, sigma_vec, pi_vec, e_z):\n",
    "    ll_mat = tf.stack(\n",
    "        [ get_norm_ll_vec(x, mu_vec[k], sigma_vec[k]) \\\n",
    "          for k in range(num_clusters) ], axis=1)\n",
    "\n",
    "    prior_mat = tf.math.log(tf.expand_dims(pi_vec, 0) * e_z)\n",
    "    \n",
    "    return ll_mat + prior_mat\n",
    "\n",
    "def get_norm_clustering_mstep(x, mu_vec, sigma_vec, pi_vec, e_z):\n",
    "    return tf.reduce_sum(get_norm_clustering_mstep_mat(x, mu_vec, sigma_vec, pi_vec, e_z))\n",
    "\n",
    "e_z = np.random.random((num_obs, num_clusters))\n",
    "get_norm_clustering_mstep(x, mu_vec, sigma_vec, pi_vec, e_z)"
   ]
  },
  {
   "cell_type": "code",
   "execution_count": 67,
   "metadata": {},
   "outputs": [
    {
     "data": {
      "text/plain": [
       "<tf.Tensor: shape=(), dtype=float64, numpy=0.6724617357284832>"
      ]
     },
     "execution_count": 67,
     "metadata": {},
     "output_type": "execute_result"
    }
   ],
   "source": [
    "def get_logistic_ll_vec(y, x_mat, theta):\n",
    "    z = x_mat @ theta\n",
    "    return y * z + tf.math.log1p(z)\n",
    "\n",
    "def get_logistic_ll(y, x_mat, theta):\n",
    "    return tf.reduce_sum(get_logistic_ll_vec(y, x_mat, theta))\n",
    "\n",
    "\n",
    "dim = 3\n",
    "x_mat = np.hstack([ np.ones((num_obs, 1)), np.random.random((num_obs, dim - 1)) ])\n",
    "theta = np.random.random(dim) / 20\n",
    "y = (np.random.random(num_obs) < x_mat @ theta).astype(np.float64)\n",
    "\n",
    "get_logistic_ll(y, x_mat, theta)"
   ]
  }
 ],
 "metadata": {
  "kernelspec": {
   "display_name": "Python 3",
   "language": "python",
   "name": "python3"
  },
  "language_info": {
   "codemirror_mode": {
    "name": "ipython",
    "version": 3
   },
   "file_extension": ".py",
   "mimetype": "text/x-python",
   "name": "python",
   "nbconvert_exporter": "python",
   "pygments_lexer": "ipython3",
   "version": "3.6.9"
  }
 },
 "nbformat": 4,
 "nbformat_minor": 4
}
