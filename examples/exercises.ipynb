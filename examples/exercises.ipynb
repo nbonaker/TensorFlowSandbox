{
 "cells": [
  {
   "cell_type": "code",
   "execution_count": 14,
   "metadata": {},
   "outputs": [],
   "source": [
    "import numpy as np\n",
    "import tensorflow as tf\n",
    "import matplotlib.pyplot as plt \n",
    "%matplotlib inline"
   ]
  },
  {
   "cell_type": "code",
   "execution_count": 76,
   "metadata": {},
   "outputs": [
    {
     "data": {
      "text/plain": [
       "<tf.Tensor: shape=(), dtype=float64, numpy=1.2735735771543384>"
      ]
     },
     "execution_count": 76,
     "metadata": {},
     "output_type": "execute_result"
    }
   ],
   "source": [
    "def get_quadratic_obj(x, a, b):\n",
    "    return 0.5 * tf.einsum('i,j,ij', x, x, a) + tf.tensordot(x, b, axes=1)\n",
    "\n",
    "\n",
    "def get_quadratic_params(dim):\n",
    "    a = np.random.random((dim, dim))\n",
    "    a = a @ a.T\n",
    "    b = np.random.random(dim)\n",
    "\n",
    "    x = np.random.random(dim)\n",
    "    \n",
    "    return a, b, x\n",
    "\n",
    "\n",
    "a, b, x = get_quadratic_params(3)\n",
    "get_quadratic_obj(x, a, b)\n"
   ]
  },
  {
   "cell_type": "code",
   "execution_count": 78,
   "metadata": {},
   "outputs": [],
   "source": [
    "def get_norm_ll_vec(x, mu, sigma):\n",
    "    mu = tf.reshape(mu, (1, ))\n",
    "    sigma = tf.reshape(sigma, (1, ))\n",
    "    return \\\n",
    "        -0.5 * (x - mu) ** 2 / (sigma ** 2) \\\n",
    "        - tf.math.log(sigma)\n",
    "\n",
    "\n",
    "def get_norm_ll(x, mu, sigma):\n",
    "    return tf.reduce_sum(get_norm_ll_vec(x, mu, sigma))\n",
    "\n",
    "\n",
    "def get_norm_ll_infl(x, mu, sigma, w):\n",
    "    return tf.reduce_sum(w * get_norm_ll_vec(x, mu, sigma))\n",
    "\n",
    "\n",
    "def get_normal_params(num_obs):\n",
    "    mu = 2.0\n",
    "    sigma = 1.5\n",
    "    x = np.random.normal(loc=mu, scale=sigma, size=num_obs)\n",
    "    w = np.ones(num_obs)\n",
    "    return mu, sigma, x, w"
   ]
  },
  {
   "cell_type": "code",
   "execution_count": 79,
   "metadata": {},
   "outputs": [
    {
     "data": {
      "text/plain": [
       "<tf.Tensor: shape=(), dtype=float32, numpy=-6.772501>"
      ]
     },
     "execution_count": 79,
     "metadata": {},
     "output_type": "execute_result"
    }
   ],
   "source": [
    "mu, sigma, x, w = get_normal_params(10)\n",
    "get_norm_ll_infl(x, mu, sigma, w)"
   ]
  },
  {
   "cell_type": "code",
   "execution_count": 124,
   "metadata": {},
   "outputs": [
    {
     "data": {
      "text/plain": [
       "<tf.Tensor: shape=(), dtype=float64, numpy=-1351.8568523810354>"
      ]
     },
     "execution_count": 124,
     "metadata": {},
     "output_type": "execute_result"
    }
   ],
   "source": [
    "def get_norm_clustering_mstep_mat(x, mu_vec, sigma_vec, pi_vec, e_z):\n",
    "    ll_mat = tf.stack(\n",
    "        [ get_norm_ll_vec(x, mu_vec[k], sigma_vec[k]) \\\n",
    "          for k in range(num_clusters) ], axis=1)\n",
    "\n",
    "    prior_mat = tf.math.log(tf.expand_dims(pi_vec, 0) * e_z)\n",
    "    \n",
    "    return ll_mat + prior_mat\n",
    "\n",
    "def get_norm_clustering_mstep(x, mu_vec, sigma_vec, pi_vec, e_z):\n",
    "    return tf.reduce_sum(get_norm_clustering_mstep_mat(x, mu_vec, sigma_vec, pi_vec, e_z))\n",
    "\n",
    "\n",
    "def get_norm_cluster_params(num_clusters, num_obs):\n",
    "    mu_vec = np.linspace(1, num_clusters, num=num_clusters)\n",
    "    sigma_vec = np.linspace(0.1, 0.2, num=num_clusters)\n",
    "    pi_vec = np.linspace(1, num_clusters, num=num_clusters)\n",
    "    pi_vec = pi_vec / np.sum(pi_vec)\n",
    "\n",
    "    z_true = np.random.multinomial(1, pi_vec, size=(num_obs, ))\n",
    "    k_true = np.argwhere(z_true == 1)[:, 1]\n",
    "    x = np.full(num_obs, float('nan'))\n",
    "    for n in range(num_obs):\n",
    "        x[n] = np.random.normal(\n",
    "            loc=mu_vec[k_true[n]],\n",
    "            scale=sigma_vec[k_true[n]],\n",
    "            size=1)\n",
    "    \n",
    "    return x, mu_vec, sigma_vec, pi_vec, z_true\n",
    "\n",
    "\n",
    "num_clusters = 3\n",
    "num_obs = 10\n",
    "x, mu_vec, sigma_vec, pi_vec, z_true = get_norm_cluster_params(3, 10)\n",
    "e_z = z_true * 0.8 + 0.1\n",
    "get_norm_clustering_mstep(x, mu_vec, sigma_vec, pi_vec, e_z)\n"
   ]
  },
  {
   "cell_type": "code",
   "execution_count": 127,
   "metadata": {},
   "outputs": [
    {
     "data": {
      "text/plain": [
       "<tf.Tensor: shape=(), dtype=float64, numpy=0.28372530858847106>"
      ]
     },
     "execution_count": 127,
     "metadata": {},
     "output_type": "execute_result"
    }
   ],
   "source": [
    "def get_logistic_ll_vec(y, x_mat, theta):\n",
    "    z = x_mat @ theta\n",
    "    return y * z + tf.math.log1p(z)\n",
    "\n",
    "def get_logistic_ll(y, x_mat, theta):\n",
    "    return tf.reduce_sum(get_logistic_ll_vec(y, x_mat, theta))\n",
    "\n",
    "\n",
    "def get_logistic_params(dim):\n",
    "    x_mat = np.hstack([ np.ones((num_obs, 1)), np.random.random((num_obs, dim - 1)) ])\n",
    "    theta = np.random.random(dim) / (10 * dim)\n",
    "    y = (np.random.random(num_obs) < x_mat @ theta).astype(np.float64)\n",
    "    return theta, x_mat, y\n",
    "\n",
    "\n",
    "theta, x_mat, y = get_logistic_params(3)\n",
    "get_logistic_ll(y, x_mat, theta)"
   ]
  }
 ],
 "metadata": {
  "kernelspec": {
   "display_name": "Python 3",
   "language": "python",
   "name": "python3"
  },
  "language_info": {
   "codemirror_mode": {
    "name": "ipython",
    "version": 3
   },
   "file_extension": ".py",
   "mimetype": "text/x-python",
   "name": "python",
   "nbconvert_exporter": "python",
   "pygments_lexer": "ipython3",
   "version": "3.6.9"
  }
 },
 "nbformat": 4,
 "nbformat_minor": 4
}
