{
 "cells": [
  {
   "cell_type": "code",
   "execution_count": 30,
   "metadata": {},
   "outputs": [],
   "source": [
    "import numpy as np\n",
    "import tensorflow as tf\n",
    "import matplotlib.pyplot as plt \n",
    "%matplotlib inline\n",
    "\n",
    "import examples_lib"
   ]
  },
  {
   "cell_type": "code",
   "execution_count": 48,
   "metadata": {},
   "outputs": [
    {
     "data": {
      "text/plain": [
       "<tf.Tensor: shape=(), dtype=float64, numpy=1.6189196288206213>"
      ]
     },
     "execution_count": 48,
     "metadata": {},
     "output_type": "execute_result"
    }
   ],
   "source": [
    "a, b, x = examples_lib.get_quadratic_params(3)\n",
    "examples_lib.get_quadratic_obj(x, a, b)"
   ]
  },
  {
   "cell_type": "code",
   "execution_count": 3,
   "metadata": {},
   "outputs": [
    {
     "data": {
      "text/plain": [
       "<tf.Tensor: shape=(), dtype=float32, numpy=-10.754641>"
      ]
     },
     "execution_count": 3,
     "metadata": {},
     "output_type": "execute_result"
    }
   ],
   "source": [
    "mu, sigma, x, w = examples_lib.get_normal_params(10)\n",
    "examples_lib.get_norm_ll_infl(x, mu, sigma, w)"
   ]
  },
  {
   "cell_type": "code",
   "execution_count": 4,
   "metadata": {},
   "outputs": [
    {
     "data": {
      "text/plain": [
       "<tf.Tensor: shape=(), dtype=float64, numpy=-1347.8231145018508>"
      ]
     },
     "execution_count": 4,
     "metadata": {},
     "output_type": "execute_result"
    }
   ],
   "source": [
    "x, mu_vec, sigma_vec, pi_vec, z_true = examples_lib.get_norm_cluster_params(3, 10)\n",
    "e_z = z_true * 0.8 + 0.1\n",
    "examples_lib.get_norm_clustering_mstep(x, mu_vec, sigma_vec, pi_vec, e_z)"
   ]
  },
  {
   "cell_type": "code",
   "execution_count": 5,
   "metadata": {},
   "outputs": [
    {
     "data": {
      "text/plain": [
       "<tf.Tensor: shape=(), dtype=float64, numpy=0.551107393829309>"
      ]
     },
     "execution_count": 5,
     "metadata": {},
     "output_type": "execute_result"
    }
   ],
   "source": [
    "theta, x_mat, y = examples_lib.get_logistic_params(10, 3)\n",
    "examples_lib.get_logistic_ll(y, x_mat, theta)"
   ]
  },
  {
   "cell_type": "markdown",
   "metadata": {},
   "source": [
    "## Forward mode example"
   ]
  },
  {
   "cell_type": "code",
   "execution_count": 52,
   "metadata": {},
   "outputs": [
    {
     "data": {
      "text/plain": [
       "<tf.Tensor: shape=(3,), dtype=float64, numpy=array([-1.12277677, -6.81905134,  2.57167325])>"
      ]
     },
     "execution_count": 52,
     "metadata": {},
     "output_type": "execute_result"
    }
   ],
   "source": [
    "dim = 3\n",
    "a, b, x = examples_lib.get_quadratic_params(dim)\n",
    "def obj(x):\n",
    "    return examples_lib.get_quadratic_obj(x, a, b)\n",
    "xopt = tf.squeeze(-tf.linalg.solve(a, tf.expand_dims(b, 1)))\n",
    "xopt"
   ]
  },
  {
   "cell_type": "code",
   "execution_count": 114,
   "metadata": {},
   "outputs": [
    {
     "name": "stdout",
     "output_type": "stream",
     "text": [
      "[<tf.Variable 'Variable:0' shape=(3,) dtype=float64, numpy=array([0.35674624, 0.64522893, 0.48022861])>]\n",
      "tf.Tensor(0.9982161360979686, shape=(), dtype=float64)\n",
      "[<tf.Tensor: shape=(3,), dtype=float64, numpy=array([1.30662422, 0.61172545, 1.6995016 ])>]\n",
      "[<tf.Tensor: shape=(3,), dtype=float64, numpy=array([2.22044605e-16, 2.22044605e-16, 3.33066907e-16])>]\n"
     ]
    }
   ],
   "source": [
    "def get_tf_args(*argv):\n",
    "    tf_argv = []\n",
    "    for arg in argv:\n",
    "        tf_argv.append(tf.Variable(arg))\n",
    "    return tf_argv\n",
    "\n",
    "def get_tf_fun(fun):\n",
    "    def tf_fun(*argv):\n",
    "        tf_argv = get_tf_args(*argv)\n",
    "        return fun(*tf_argv)\n",
    "    return tf_fun\n",
    "\n",
    "def get_gradient_fun(fun):\n",
    "    def fun_grad(*argv):\n",
    "        tf_argv = get_tf_args(*argv)\n",
    "        with tf.GradientTape() as tape:\n",
    "            result = fun(*tf_argv)\n",
    "        return tape.gradient(result, tf_argv)\n",
    "    return fun_grad\n",
    "        \n",
    "x = np.random.random(dim)\n",
    "print(get_tf_args(x))\n",
    "print(get_tf_fun(obj)(x))\n",
    "get_obj_grad = get_gradient_fun(obj)\n",
    "print(get_obj_grad(x))\n",
    "print(get_obj_grad(xopt))"
   ]
  },
  {
   "cell_type": "code",
   "execution_count": 116,
   "metadata": {},
   "outputs": [
    {
     "name": "stdout",
     "output_type": "stream",
     "text": [
      "tf.Tensor([1.30662422 0.61172545 1.6995016 ], shape=(3,), dtype=float64)\n",
      "None\n"
     ]
    }
   ],
   "source": [
    "# Note that this doesn't work.\n",
    "x_tf = get_tf_args(x)[0]\n",
    "with tf.GradientTape() as tape:\n",
    "    grad = get_obj_grad(x_tf)[0]\n",
    "hess = tape.jacobian(grad, x_tf)\n",
    "print(grad)\n",
    "print(hess)"
   ]
  },
  {
   "cell_type": "code",
   "execution_count": 123,
   "metadata": {},
   "outputs": [
    {
     "name": "stdout",
     "output_type": "stream",
     "text": [
      "tf.Tensor(\n",
      "[[1.18685237 0.26360026 1.15563059]\n",
      " [0.26360026 0.15110692 0.43328023]\n",
      " [1.15563059 0.43328023 1.55127487]], shape=(3, 3), dtype=float64) tf.Tensor(\n",
      "[[0. 0. 0.]\n",
      " [0. 0. 0.]\n",
      " [0. 0. 0.]], shape=(3, 3), dtype=float64)\n"
     ]
    }
   ],
   "source": [
    "# Hessian that works.\n",
    "x_tf = get_tf_args(x)[0]\n",
    "with tf.GradientTape() as tape1:\n",
    "    with tf.GradientTape() as tape2:\n",
    "        obj_val = obj(x_tf)\n",
    "    grad = tape2.gradient(obj_val, x_tf)\n",
    "hess = tape1.jacobian(grad, x_tf)\n",
    "print(hess, hess - a)"
   ]
  },
  {
   "cell_type": "code",
   "execution_count": 118,
   "metadata": {},
   "outputs": [
    {
     "name": "stdout",
     "output_type": "stream",
     "text": [
      "tf.Tensor(4.969780573018578, shape=(), dtype=float64) tf.Tensor(8.881784197001252e-16, shape=(), dtype=float64)\n"
     ]
    }
   ],
   "source": [
    "# This works\n",
    "x_tf = tf.constant(x) # Can also be tf.Variable\n",
    "with tf.autodiff.ForwardAccumulator(x_tf, grad) as accum:\n",
    "    obj_val = obj(x_tf)\n",
    "\n",
    "forward_grad_grad = accum.jvp(obj_val)    \n",
    "print(forward_grad_grad, forward_grad_grad - tf.tensordot(grad, grad, 1))    "
   ]
  },
  {
   "cell_type": "code",
   "execution_count": 131,
   "metadata": {},
   "outputs": [
    {
     "name": "stdout",
     "output_type": "stream",
     "text": [
      "tf.Tensor([3.67601708 1.17322288 4.41141758], shape=(3,), dtype=float64)\n",
      "tf.Tensor([3.67601708 1.17322288 4.41141758], shape=(3,), dtype=float64)\n"
     ]
    }
   ],
   "source": [
    "# This works\n",
    "obj_grad = get_obj_grad(x_tf)[0]\n",
    "v = tf.Variable(obj_grad)\n",
    "x_tf = tf.Variable(x)\n",
    "with tf.autodiff.ForwardAccumulator(x_tf, v) as accum:\n",
    "    with tf.GradientTape() as tape:\n",
    "        obj_val = obj(x_tf)\n",
    "    grad = tape.gradient(obj_val, x_tf)\n",
    "\n",
    "forward_hvp = accum.jvp(grad)\n",
    "\n",
    "print(forward_hvp)\n",
    "print(tf.tensordot(hess, grad, axes=1))"
   ]
  },
  {
   "cell_type": "code",
   "execution_count": 132,
   "metadata": {},
   "outputs": [
    {
     "name": "stdout",
     "output_type": "stream",
     "text": [
      "tf.Tensor([3.67601708 1.17322288 4.41141758], shape=(3,), dtype=float64)\n",
      "tf.Tensor([3.67601708 1.17322288 4.41141758], shape=(3,), dtype=float64)\n"
     ]
    }
   ],
   "source": [
    "# This works, though it is not in the right order.\n",
    "obj_grad = get_obj_grad(x_tf)[0]\n",
    "v = tf.Variable(obj_grad)\n",
    "x_tf = tf.Variable(x)\n",
    "with tf.GradientTape() as tape:\n",
    "    with tf.autodiff.ForwardAccumulator(x_tf, v) as accum:\n",
    "        obj_val = obj(x_tf)\n",
    "    forward_gvp = accum.jvp(obj_val)\n",
    "forward_hvp = tape.gradient(forward_gvp, x_tf)\n",
    "\n",
    "print(forward_hvp)\n",
    "print(tf.tensordot(hess, grad, axes=1))"
   ]
  }
 ],
 "metadata": {
  "kernelspec": {
   "display_name": "Python 3",
   "language": "python",
   "name": "python3"
  },
  "language_info": {
   "codemirror_mode": {
    "name": "ipython",
    "version": 3
   },
   "file_extension": ".py",
   "mimetype": "text/x-python",
   "name": "python",
   "nbconvert_exporter": "python",
   "pygments_lexer": "ipython3",
   "version": "3.6.9"
  }
 },
 "nbformat": 4,
 "nbformat_minor": 4
}
