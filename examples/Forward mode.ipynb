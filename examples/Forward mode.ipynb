{
 "cells": [
  {
   "cell_type": "code",
   "execution_count": 1,
   "metadata": {},
   "outputs": [],
   "source": [
    "import numpy as np\n",
    "import tensorflow as tf"
   ]
  },
  {
   "cell_type": "markdown",
   "metadata": {},
   "source": [
    "A slight modification of the example in https://www.tensorflow.org/api_docs/python/tf/autodiff/ForwardAccumulator to clarify the role of the tangents."
   ]
  },
  {
   "cell_type": "code",
   "execution_count": 9,
   "metadata": {},
   "outputs": [
    {
     "name": "stdout",
     "output_type": "stream",
     "text": [
      "tf.Tensor(5.7742176, shape=(), dtype=float32) 5.77421711360077\n",
      "tf.Tensor(15.747866, shape=(), dtype=float32) 15.747864855274829\n"
     ]
    }
   ],
   "source": [
    "primal = tf.constant(1.10)\n",
    "with tf.autodiff.ForwardAccumulator(primal, tf.constant(1.2)) as outer:\n",
    "    with tf.autodiff.ForwardAccumulator(primal, tf.constant(1.3)) as inner:\n",
    "        result = primal ** tf.constant(3.5)\n",
    "\n",
    "inner_jvp = inner.jvp(result)\n",
    "outer_jvp = outer.jvp(inner_jvp)\n",
    "\n",
    "print(inner_jvp, 1.3 * 3.5 * (1.1 ** 2.5))\n",
    "print(outer_jvp, 1.2 * 1.3 * 3.5 * 2.5 * (1.1 ** 1.5))"
   ]
  }
 ],
 "metadata": {
  "kernelspec": {
   "display_name": "Python 3",
   "language": "python",
   "name": "python3"
  },
  "language_info": {
   "codemirror_mode": {
    "name": "ipython",
    "version": 3
   },
   "file_extension": ".py",
   "mimetype": "text/x-python",
   "name": "python",
   "nbconvert_exporter": "python",
   "pygments_lexer": "ipython3",
   "version": "3.6.9"
  }
 },
 "nbformat": 4,
 "nbformat_minor": 4
}
