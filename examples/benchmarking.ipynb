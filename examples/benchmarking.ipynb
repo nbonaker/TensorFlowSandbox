{
 "cells": [
  {
   "cell_type": "code",
   "execution_count": 1,
   "metadata": {},
   "outputs": [],
   "source": [
    "import tensorflow as tf\n",
    "import autograd\n",
    "from autograd import numpy as np\n",
    "#import jax\n",
    "#from jax import numpy as np\n",
    "import numpy as anp\n",
    "import time\n",
    "import timeit\n",
    "\n",
    "import examples_lib\n",
    "from examples_lib import get_logistic_ll_vec, get_logistic_ll"
   ]
  },
  {
   "cell_type": "code",
   "execution_count": 2,
   "metadata": {},
   "outputs": [],
   "source": [
    "# Can't do this\n",
    "#tf.constant(1, dtype=tf.float32) + tf.constant(1, dtype=tf.float64)"
   ]
  },
  {
   "cell_type": "code",
   "execution_count": 3,
   "metadata": {},
   "outputs": [],
   "source": [
    "\n",
    "######################\n",
    "# Logistic\n",
    "\n",
    "@tf.function\n",
    "def get_logistic_ll_vec(y, x_mat, theta):\n",
    "    z = tf.tensordot(x_mat, theta, axes=1)\n",
    "    return y * z + tf.math.log1p(z)\n",
    "\n",
    "@tf.function\n",
    "def get_logistic_ll(y, x_mat, theta):\n",
    "    return tf.reduce_sum(get_logistic_ll_vec(y, x_mat, theta))\n",
    "\n",
    "\n",
    "def np_get_logistic_ll_vec(y, x_mat, theta):\n",
    "    z = x_mat @ theta\n",
    "    return y * z + np.log1p(z)\n",
    "\n",
    "def np_get_logistic_ll(y, x_mat, theta):\n",
    "    return np.sum(np_get_logistic_ll_vec(y, x_mat, theta))\n"
   ]
  },
  {
   "cell_type": "code",
   "execution_count": 4,
   "metadata": {},
   "outputs": [],
   "source": [
    "theta, x_mat, y = examples_lib.get_logistic_params(1000, 100)"
   ]
  },
  {
   "cell_type": "code",
   "execution_count": 5,
   "metadata": {
    "scrolled": false
   },
   "outputs": [
    {
     "data": {
      "text/plain": [
       "<tf.Tensor: shape=(), dtype=float64, numpy=24.796341268369105>"
      ]
     },
     "execution_count": 5,
     "metadata": {},
     "output_type": "execute_result"
    }
   ],
   "source": [
    "np_get_logistic_ll(y, x_mat, theta)\n",
    "get_logistic_ll(y, x_mat, theta)"
   ]
  },
  {
   "cell_type": "code",
   "execution_count": 11,
   "metadata": {
    "scrolled": false
   },
   "outputs": [],
   "source": [
    "assert np.abs(np_get_logistic_ll(y, x_mat, theta) -\n",
    "              get_logistic_ll(y, x_mat, theta)) < 1e-12\n",
    "\n",
    "assert np.max(np.abs(\n",
    "    np_get_logistic_ll_vec(y, x_mat, theta) -\n",
    "    get_logistic_ll_vec(y, x_mat, theta))) < 1e-12"
   ]
  },
  {
   "cell_type": "code",
   "execution_count": 7,
   "metadata": {},
   "outputs": [],
   "source": [
    "np_get_logistic_ll_grad = autograd.grad(lambda theta: np_get_logistic_ll(y, x_mat, theta))\n",
    "np_grad = np_get_logistic_ll_grad(theta)\n",
    "\n",
    "theta_tf = tf.Variable(theta)\n",
    "tf_y = tf.constant(y)\n",
    "tf_x_mat = tf.constant(x_mat)\n",
    "def tf_get_logistic_ll_grad(theta):\n",
    "    with tf.GradientTape() as tape:\n",
    "        ll = get_logistic_ll(tf_y, tf_x_mat, theta_tf)\n",
    "    tf_grad = tape.gradient(ll, theta_tf)\n",
    "    return tf_grad\n",
    "\n",
    "tf_grad = tf_get_logistic_ll_grad(theta)\n",
    "assert np.max(np.abs(np_grad - tf_grad)) < 1e-12"
   ]
  },
  {
   "cell_type": "code",
   "execution_count": 8,
   "metadata": {},
   "outputs": [
    {
     "name": "stdout",
     "output_type": "stream",
     "text": [
      "tf_time:  0.038136831019073725\n",
      "np_time:  0.05711106298258528\n"
     ]
    }
   ],
   "source": [
    "tf_time = timeit.timeit('tf_get_logistic_ll_grad(theta)', number=50, globals=globals())\n",
    "np_time = timeit.timeit('np_get_logistic_ll_grad(theta)', number=50, globals=globals())\n",
    "print('tf_time: ', tf_time)\n",
    "print('np_time: ', np_time)"
   ]
  },
  {
   "cell_type": "code",
   "execution_count": 9,
   "metadata": {},
   "outputs": [],
   "source": [
    "np_get_logistic_ll_hessian = autograd.hessian(lambda theta: np_get_logistic_ll(y, x_mat, theta))\n",
    "np_hessian = np_get_logistic_ll_hessian(theta)\n",
    "\n",
    "def tf_get_logistic_ll_hessian(theta):\n",
    "    with tf.GradientTape() as tape1:\n",
    "        with tf.GradientTape() as tape2:\n",
    "            ll = get_logistic_ll(tf_y, tf_x_mat, theta_tf)\n",
    "        tf_grad = tape2.jacobian(ll, theta_tf)\n",
    "    tf_hess = tape1.jacobian(tf_grad, theta_tf)\n",
    "    return tf_hess\n",
    "\n",
    "tf_hess = tf_get_logistic_ll_hessian(theta)\n",
    "assert np.max(np.abs(np_hessian - tf_hess)) < 1e-8"
   ]
  },
  {
   "cell_type": "code",
   "execution_count": 10,
   "metadata": {},
   "outputs": [
    {
     "name": "stdout",
     "output_type": "stream",
     "text": [
      "tf_time:  4.802578848000849\n",
      "np_time:  0.6298453279887326\n",
      "ratio tf / np:  7.625013054136305\n"
     ]
    }
   ],
   "source": [
    "tf_time = timeit.timeit('tf_get_logistic_ll_hessian(theta)', number=5, globals=globals())\n",
    "np_time = timeit.timeit('np_get_logistic_ll_hessian(theta)', number=5, globals=globals())\n",
    "print('tf_time: ', tf_time)\n",
    "print('np_time: ', np_time)\n",
    "print('ratio tf / np: ', tf_time / np_time)"
   ]
  }
 ],
 "metadata": {
  "kernelspec": {
   "display_name": "tf_sandbox",
   "language": "python",
   "name": "tf_sandbox"
  },
  "language_info": {
   "codemirror_mode": {
    "name": "ipython",
    "version": 3
   },
   "file_extension": ".py",
   "mimetype": "text/x-python",
   "name": "python",
   "nbconvert_exporter": "python",
   "pygments_lexer": "ipython3",
   "version": "3.6.9"
  }
 },
 "nbformat": 4,
 "nbformat_minor": 4
}
