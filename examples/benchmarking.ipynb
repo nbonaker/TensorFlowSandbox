{
 "cells": [
  {
   "cell_type": "code",
   "execution_count": 42,
   "metadata": {},
   "outputs": [],
   "source": [
    "import tensorflow as tf\n",
    "import autograd\n",
    "from autograd import numpy as np\n",
    "import numpy as anp\n",
    "import time\n",
    "\n",
    "import examples_lib\n",
    "from examples_lib import get_logistic_ll_vec, get_logistic_ll"
   ]
  },
  {
   "cell_type": "code",
   "execution_count": 28,
   "metadata": {},
   "outputs": [],
   "source": [
    "\n",
    "######################\n",
    "# Logistic\n",
    "\n",
    "def get_logistic_ll_vec(y, x_mat, theta):\n",
    "    z = tf.tensordot(x_mat, theta, axes=1)\n",
    "    return y * z + tf.math.log1p(z)\n",
    "\n",
    "def get_logistic_ll(y, x_mat, theta):\n",
    "    return tf.reduce_sum(get_logistic_ll_vec(y, x_mat, theta))\n",
    "\n",
    "\n",
    "def np_get_logistic_ll_vec(y, x_mat, theta):\n",
    "    z = x_mat @ theta\n",
    "    return y * z + np.log1p(z)\n",
    "\n",
    "def np_get_logistic_ll(y, x_mat, theta):\n",
    "    return np.sum(np_get_logistic_ll_vec(y, x_mat, theta))\n"
   ]
  },
  {
   "cell_type": "code",
   "execution_count": 27,
   "metadata": {},
   "outputs": [],
   "source": [
    "theta, x_mat, y = examples_lib.get_logistic_params(1000, 10)"
   ]
  },
  {
   "cell_type": "code",
   "execution_count": 32,
   "metadata": {},
   "outputs": [],
   "source": [
    "assert np.abs(np_get_logistic_ll(y, x_mat, theta) -\n",
    "              get_logistic_ll(y, x_mat, theta)) < 1e-12\n",
    "assert np.max(np.abs(\n",
    "    np_get_logistic_ll_vec(y, x_mat, theta) -\n",
    "    get_logistic_ll_vec(y, x_mat, theta))) < 1e-12"
   ]
  },
  {
   "cell_type": "code",
   "execution_count": 30,
   "metadata": {},
   "outputs": [
    {
     "data": {
      "text/plain": [
       "<tf.Tensor: shape=(10,), dtype=float64, numpy=\n",
       "array([0.00714032, 0.00786163, 0.00490904, 0.00031338, 0.00356672,\n",
       "       0.00936083, 0.00938277, 0.00769708, 0.00887007, 0.00932182])>"
      ]
     },
     "execution_count": 30,
     "metadata": {},
     "output_type": "execute_result"
    }
   ],
   "source": [
    "tf.constant(theta)"
   ]
  },
  {
   "cell_type": "code",
   "execution_count": 41,
   "metadata": {},
   "outputs": [],
   "source": [
    "np_get_logistic_ll_grad = autograd.grad(lambda theta: np_get_logistic_ll(y, x_mat, theta))\n",
    "np_grad = np_get_logistic_ll_grad(theta)\n",
    "\n",
    "theta_tf = tf.Variable(theta)\n",
    "with tf.GradientTape() as tape:\n",
    "    ll = get_logistic_ll(tf.constant(y), tf.constant(x_mat), theta_tf)\n",
    "tf_grad = tape.gradient(ll, theta_tf)\n",
    "\n",
    "assert np.max(np.abs(np_grad - tf_grad)) < 1e-12"
   ]
  }
 ],
 "metadata": {
  "kernelspec": {
   "display_name": "Python 3",
   "language": "python",
   "name": "python3"
  },
  "language_info": {
   "codemirror_mode": {
    "name": "ipython",
    "version": 3
   },
   "file_extension": ".py",
   "mimetype": "text/x-python",
   "name": "python",
   "nbconvert_exporter": "python",
   "pygments_lexer": "ipython3",
   "version": "3.6.9"
  }
 },
 "nbformat": 4,
 "nbformat_minor": 4
}
